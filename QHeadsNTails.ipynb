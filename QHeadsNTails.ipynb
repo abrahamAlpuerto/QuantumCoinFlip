{
 "cells": [
  {
   "cell_type": "code",
   "execution_count": 112,
   "metadata": {},
   "outputs": [],
   "source": [
    "import qiskit\n",
    "from qiskit import QuantumCircuit\n",
    "from qiskit_ibm_runtime import QiskitRuntimeService"
   ]
  },
  {
   "cell_type": "markdown",
   "metadata": {},
   "source": [
    "# Program to Play Heads or Tails against a Quantum Computer \n",
    "To win you want the coin starting at heads to end on tails you and the quantum computer get a move to flip the coin from heads to tails or the other way around\n",
    "The coin will start at heads"
   ]
  },
  {
   "cell_type": "code",
   "execution_count": 113,
   "metadata": {},
   "outputs": [],
   "source": [
    "def headTailsCircuit(num_qubits, players_choice):\n",
    "    qc = QuantumCircuit(num_qubits,1)\n",
    "    \n",
    "    # Put qubit in Superposition\n",
    "    qc.h(0)\n",
    "\n",
    "    # Flip coin and apply gate on cubit\n",
    "    if players_choice:\n",
    "        qc.z(0)\n",
    "\n",
    "    # Unmix the Superposition\n",
    "    qc.h(0)\n",
    "\n",
    "    # Measure the Quantum Circuit\n",
    "    qc.measure(0,0)\n",
    "    \n",
    "    return qc\n"
   ]
  },
  {
   "cell_type": "markdown",
   "metadata": {},
   "source": [
    "# Now lets use the quntum circuit"
   ]
  },
  {
   "cell_type": "code",
   "execution_count": 114,
   "metadata": {},
   "outputs": [
    {
     "data": {
      "image/png": "[encoded data removed]",
      "text/plain": [
       "<Figure size 436.286x200.667 with 1 Axes>"
      ]
     },
     "execution_count": 114,
     "metadata": {},
     "output_type": "execute_result"
    }
   ],
   "source": [
    "import matplotlib as mpl\n",
    "\n",
    "choice = input(\"Please input a 1 if you would like to flip the coin to tails or keep it the same\")\n",
    "choice = int(choice)\n",
    "\n",
    "qc = headTailsCircuit(1,choice)\n",
    "\n",
    "heads = True\n",
    "if choice == 1:\n",
    "    heads == False\n",
    "\n",
    "qc.draw('mpl')"
   ]
  },
  {
   "cell_type": "markdown",
   "metadata": {},
   "source": [
    "# Backend Processing"
   ]
  },
  {
   "cell_type": "code",
   "execution_count": 115,
   "metadata": {},
   "outputs": [],
   "source": [
    "from qiskit.transpiler.preset_passmanagers import generate_preset_pass_manager\n",
    "from qiskit_ibm_runtime import QiskitRuntimeService\n",
    "\n",
    "backend_name = \"ibm_rensselaer\"\n",
    "service = QiskitRuntimeService()\n",
    "backend = service.get_backend(backend_name)\n",
    "\n",
    "pm = generate_preset_pass_manager(backend=backend, optimization_level=1)\n",
    "isa_circuit = pm.run(qc)"
   ]
  },
  {
   "cell_type": "markdown",
   "metadata": {},
   "source": [
    "# Executing on Backend"
   ]
  },
  {
   "cell_type": "code",
   "execution_count": 116,
   "metadata": {},
   "outputs": [
    {
     "name": "stdout",
     "output_type": "stream",
     "text": [
      ">>> Job ID: cs8b93m7yykg0082gyb0\n",
      ">>> Job Status: QUEUED\n"
     ]
    }
   ],
   "source": [
    "from qiskit_ibm_runtime import SamplerV2 as Sampler\n",
    "\n",
    "sampler = Sampler(backend=backend)\n",
    "job = sampler.run([isa_circuit])\n",
    "\n",
    "print(f\">>> Job ID: {job.job_id()}\")\n",
    "print(f\">>> Job Status: {job.status()}\")"
   ]
  },
  {
   "cell_type": "code",
   "execution_count": 117,
   "metadata": {},
   "outputs": [
    {
     "name": "stdout",
     "output_type": "stream",
     "text": [
      "Counts for the meas output register: {'1': 4090, '0': 6}\n"
     ]
    }
   ],
   "source": [
    "result = job.result()\n",
    " \n",
    "# Get results for the first (and only) PUB\n",
    "pub_result = result[0]\n",
    "print(f\"Counts for the meas output register: {pub_result.data.c.get_counts()}\")"
   ]
  },
  {
   "cell_type": "markdown",
   "metadata": {},
   "source": [
    "## Results\n",
    "Using superposition data to decide to flip the coin or not\n",
    "If the coin ends on tails you win heads you lose\n"
   ]
  },
  {
   "cell_type": "code",
   "execution_count": 118,
   "metadata": {},
   "outputs": [
    {
     "name": "stdout",
     "output_type": "stream",
     "text": [
      "The Quantum Computer flips the coin\n",
      "You Lose! The Quantum Computer Wins\n"
     ]
    }
   ],
   "source": [
    "counts = pub_result.data.c.get_counts()\n",
    "state = max(counts, key=counts.get)\n",
    "\n",
    "\n",
    "if state == '1':\n",
    "    print(\"The Quantum Computer flips the coin\")\n",
    "\n",
    "    if choice == 1:\n",
    "        print(\"You Lose! The Quantum Computer Wins\")\n",
    "    else:\n",
    "        print(\"Wow how did you win?\")\n",
    "else:\n",
    "    print(\"The Quantum Computer does not flip the coin\")\n",
    "\n",
    "    if choice == 0:\n",
    "        print(\"You Lose! The Quantum Computer Wins\")\n",
    "    else:\n",
    "        print(\"Wow how did you win?\")"
   ]
  }
 ],
 "metadata": {
  "kernelspec": {
   "display_name": "cwq",
   "language": "python",
   "name": "python3"
  },
  "language_info": {
   "codemirror_mode": {
    "name": "ipython",
    "version": 3
   },
   "file_extension": ".py",
   "mimetype": "text/x-python",
   "name": "python",
   "nbconvert_exporter": "python",
   "pygments_lexer": "ipython3",
   "version": "3.12.3"
  }
 },
 "nbformat": 4,
 "nbformat_minor": 2
}
